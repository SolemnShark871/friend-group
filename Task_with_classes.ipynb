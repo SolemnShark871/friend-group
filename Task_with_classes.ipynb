{
 "cells": [
  {
   "cell_type": "code",
   "execution_count": 10,
   "metadata": {},
   "outputs": [
    {
     "name": "stdout",
     "output_type": "stream",
     "text": [
      "{'John': 'cousin', 'Zalika': 'landlord'}\n"
     ]
    }
   ],
   "source": [
    "\"\"\"An example of how to represent a group of acquaintances in Python.\"\"\"\n",
    "\n",
    "# Your code to go here...\n",
    "\n",
    "#my_group = #-JiefuMei-myx2021-thandi1908-SolemnShark871\n",
    "\n",
    "class Person:\n",
    "    def __init__(self, name, age, occupation, relationships):\n",
    "        self.name = name\n",
    "        self.age = age\n",
    "        self.occupation = occupation\n",
    "        self.relationships = relationships  #define relationship\n",
    "\n",
    "    def add_relationships(self, name, relationships):\n",
    "        self.relationships = relationships\n",
    "\n",
    "Jill_relations = {\n",
    "    \"Zalika\": \"friend\",\n",
    "    \"John\": \"partner\"\n",
    "                     }\n",
    "\n",
    "Zalika_relations = {\n",
    "    \"Jill\":\"friend\"\n",
    "}\n",
    "\n",
    "John_relations = {\n",
    "    \"Jill\":\"partner\"\n",
    "}\n",
    "\n",
    "Nash_relations ={\n",
    "    \"John\":\"cousin\",\n",
    "    \"Zalika\":\"landlord\"\n",
    "}\n",
    "jill = Person('Jill', 26, \"biologist\",Jill_relations)\n",
    "zalika = Person('Zalika',28,\"artist\",Zalika_relations)\n",
    "john = Person('John',27,\"writer\",John_relations)\n",
    "nash = Person('Nash',34, \"chef\",Nash_relations)\n",
    "\n",
    "\n",
    "print(nash.relationships)"
   ]
  }
 ],
 "metadata": {
  "interpreter": {
   "hash": "b3ba2566441a7c06988d0923437866b63cedc61552a5af99d1f4fb67d367b25f"
  },
  "kernelspec": {
   "display_name": "Python 3.8.5 64-bit ('base': conda)",
   "name": "python3"
  },
  "language_info": {
   "codemirror_mode": {
    "name": "ipython",
    "version": 3
   },
   "file_extension": ".py",
   "mimetype": "text/x-python",
   "name": "python",
   "nbconvert_exporter": "python",
   "pygments_lexer": "ipython3",
   "version": "3.8.5"
  },
  "orig_nbformat": 4
 },
 "nbformat": 4,
 "nbformat_minor": 2
}
